{
 "cells": [
  {
   "cell_type": "code",
   "execution_count": 1,
   "id": "f8992499",
   "metadata": {},
   "outputs": [],
   "source": [
    "import re\n",
    "import numpy as np\n",
    "from PIL import Image\n",
    "\n",
    "import tensorflow as tf\n",
    "import matplotlib.pyplot as plt\n",
    "from sklearn.model_selection import train_test_split\n",
    "from keras import backend as K\n",
    "from keras.layers import Activation\n",
    "from keras.layers import Input, Lambda, Dense, Dropout, Conv2D, MaxPooling2D, Flatten\n",
    "from keras.models import Sequential, Model\n",
    "from tensorflow.keras.optimizers import RMSprop"
   ]
  },
  {
   "attachments": {},
   "cell_type": "markdown",
   "id": "96a60875",
   "metadata": {},
   "source": [
    "以下為使用到的資料集：\n",
    "\n",
    "共用40個類別(40個人臉)：s1~s40\n",
    "\n",
    "![jupyter](https://raw.githubusercontent.com/sudharsan13296/Hands-On-Meta-Learning-With-Python/7a73852d3439f11b84fd1b8d0c79be83e1ae0046/02.%20Face%20and%20Audio%20Recognition%20using%20Siamese%20Networks/Images/1.png)\n",
    "\n",
    "每一個類別10張圖片\n",
    "\n",
    "![jupyter](https://raw.githubusercontent.com/sudharsan13296/Hands-On-Meta-Learning-With-Python/7a73852d3439f11b84fd1b8d0c79be83e1ae0046/02.%20Face%20and%20Audio%20Recognition%20using%20Siamese%20Networks/Images/3.png)"
   ]
  },
  {
   "cell_type": "markdown",
   "id": "651510e9",
   "metadata": {},
   "source": [
    "自己加的展示網路預測結果的函數，包含：\n",
    "\n",
    "測試輸入的圖片對、輸入圖片對的labels(是來自同類還是來自不同類)、網路的預測輸出(相似還是不相似)"
   ]
  },
  {
   "cell_type": "code",
   "execution_count": 35,
   "id": "c2d970eb",
   "metadata": {},
   "outputs": [],
   "source": [
    "def show_image(image_array,label, predictions,num):\n",
    "    new_image=[]\n",
    "    new_image.append(np.reshape(image_array[num,0,:,:,0],[56,46]))\n",
    "    new_image.append(np.reshape(image_array[num,1,:,:,0],[56,46]))\n",
    "    plt.subplot(1,2,1)\n",
    "    plt.imshow(new_image[0], cmap='gray')\n",
    "    plt.subplot(1,2,2)\n",
    "    plt.imshow(new_image[1], cmap='gray')\n",
    "    plt.title([\"true:\",label[num,0],\"prediction:\",predictions[num,0]])\n",
    "    return plt.show()"
   ]
  },
  {
   "cell_type": "markdown",
   "id": "f42c3f61",
   "metadata": {},
   "source": [
    "讀取圖片的函數"
   ]
  },
  {
   "cell_type": "code",
   "execution_count": 3,
   "id": "37893cc6",
   "metadata": {},
   "outputs": [],
   "source": [
    "def read_image(filename, byteorder='>'):\n",
    "    \n",
    "    #first we read the image, as a raw file to the buffer\n",
    "    with open(filename, 'rb') as f:\n",
    "        buffer = f.read()\n",
    "    \n",
    "    #using regex, we extract the header, width, height and maxval of the image\n",
    "    header, width, height, maxval = re.search(\n",
    "        b\"(^P5\\s(?:\\s*#.*[\\r\\n])*\"\n",
    "        b\"(\\d+)\\s(?:\\s*#.*[\\r\\n])*\"\n",
    "        b\"(\\d+)\\s(?:\\s*#.*[\\r\\n])*\"\n",
    "        b\"(\\d+)\\s(?:\\s*#.*[\\r\\n]\\s)*)\", buffer).groups()\n",
    "    \n",
    "    #then we convert the image to numpy array using np.frombuffer which interprets buffer as one dimensional array\n",
    "    return np.frombuffer(buffer,\n",
    "                            dtype='u1' if int(maxval) < 256 else byteorder+'u2',\n",
    "                            count=int(width)*int(height),\n",
    "                            offset=len(header)\n",
    "                            ).reshape((int(height), int(width)))"
   ]
  },
  {
   "cell_type": "code",
   "execution_count": 4,
   "id": "ada1d77c",
   "metadata": {},
   "outputs": [
    {
     "data": {
      "image/png": "[encoded data removed]",
      "text/plain": [
       "<PIL.PpmImagePlugin.PpmImageFile image mode=L size=92x112 at 0x1DB1BBC37C0>"
      ]
     },
     "execution_count": 4,
     "metadata": {},
     "output_type": "execute_result"
    }
   ],
   "source": [
    "Image.open(\"data/orl_faces/s1/1.pgm\")"
   ]
  },
  {
   "cell_type": "code",
   "execution_count": 5,
   "id": "4603f289",
   "metadata": {},
   "outputs": [],
   "source": [
    "img = read_image('data/orl_faces/s1/1.pgm')"
   ]
  },
  {
   "cell_type": "markdown",
   "id": "7221f279",
   "metadata": {},
   "source": [
    "觀察輸入圖片的大小，對後續輸入特徵的組成與圖片的重組很重要"
   ]
  },
  {
   "cell_type": "code",
   "execution_count": 6,
   "id": "72f67880",
   "metadata": {},
   "outputs": [
    {
     "data": {
      "text/plain": [
       "(112, 92)"
      ]
     },
     "execution_count": 6,
     "metadata": {},
     "output_type": "execute_result"
    }
   ],
   "source": [
    "img.shape"
   ]
  },
  {
   "cell_type": "markdown",
   "id": "d130bdd5",
   "metadata": {},
   "source": [
    "size：將圖片縮小多少倍\n",
    "；\n",
    "total_sample_size：要生成多少訓練+測試圖片對"
   ]
  },
  {
   "cell_type": "code",
   "execution_count": 7,
   "id": "1fddfc8e",
   "metadata": {},
   "outputs": [],
   "source": [
    "size = 2\n",
    "total_sample_size = 10000"
   ]
  },
  {
   "cell_type": "markdown",
   "id": "03f8c8be",
   "metadata": {},
   "source": [
    "# 創建圖片對\n",
    "\n",
    "這個函數中執行的事情為：\n",
    "\n",
    "1.x_geuine_pair、x_imposite_pair，抓取真圖片對(兩圖片來自相同類，即同一人)與假圖片對(兩圖片來自不同類，即不同人)\n",
    "\n",
    "2.y_genuine、y_imposite，給圖片對設置的labels(即若圖片對為真設為0，為假則設為1)\n",
    "\n",
    "這裡原作者創建的圖片對為x_geuine_pair = np.zeros([total_sample_size, 2, 1, dim1, dim2])，\n",
    "\n",
    "x_geuine_pair第一個元素為總sample個數；第二個元素為有幾個圖片，這裡使用有兩張圖片組成；第三個元素為輸入圖片的色彩通道，因為為黑白圖片所以只有一個通道；第四與第五個元素為圖片的寬與高\n",
    "\n",
    "但是真正訓練網路時會有錯誤，所以改成 x_geuine_pair = np.zeros([total_sample_size, 2, dim1, dim2, 1],dtype=('float32'))\n",
    "\n",
    "後面介紹網路的時候會詳細介紹原因(主要是因為網路對於輸入的要求)"
   ]
  },
  {
   "cell_type": "code",
   "execution_count": 194,
   "id": "a0e8c6a9",
   "metadata": {},
   "outputs": [],
   "source": [
    "def get_data(size, total_sample_size):\n",
    "    #read the image\n",
    "    image = read_image('data/orl_faces/s' + str(1) + '/' + str(1) + '.pgm', 'rw+')\n",
    "    #reduce the size\n",
    "    image = image[::size, ::size]\n",
    "    #get the new size\n",
    "    dim1 = image.shape[0]\n",
    "    dim2 = image.shape[1]\n",
    "\n",
    "    count = 0\n",
    "    \n",
    "    #initialize the numpy array with the shape of [total_sample, no_of_pairs, dim1, dim2]\n",
    "    x_geuine_pair = np.zeros([total_sample_size, 2, dim1, dim2, 1],dtype=('float32'))  # 2 is for pairs\n",
    "    y_genuine = np.zeros([total_sample_size, 1],dtype=('float32'))\n",
    "    \n",
    "    for i in range(40):\n",
    "        for j in range(int(total_sample_size/40)):\n",
    "            ind1 = 0\n",
    "            ind2 = 0\n",
    "            \n",
    "            #read images from same directory (genuine pair)\n",
    "            while ind1 == ind2:\n",
    "                ind1 = np.random.randint(10)\n",
    "                ind2 = np.random.randint(10)\n",
    "            \n",
    "            # read the two images\n",
    "            img1 = read_image('data/orl_faces/s' + str(i+1) + '/' + str(ind1 + 1) + '.pgm', 'rw+')\n",
    "            img2 = read_image('data/orl_faces/s' + str(i+1) + '/' + str(ind2 + 1) + '.pgm', 'rw+')\n",
    "            \n",
    "            #reduce the size\n",
    "            img1 = img1[::size, ::size]\n",
    "            img2 = img2[::size, ::size]\n",
    "            \n",
    "            #store the images to the initialized numpy array\n",
    "            x_geuine_pair[count, 0,  :, :,0] = img1\n",
    "            x_geuine_pair[count, 1,  :, :,0] = img2\n",
    "            \n",
    "            #as we are drawing images from the same directory we assign label as 1(作者使用的，後面會解釋使用1/0的差別). (genuine pair)\n",
    "            y_genuine[count] = 0\n",
    "            count += 1\n",
    "\n",
    "    count = 0\n",
    "    x_imposite_pair = np.zeros([total_sample_size, 2, dim1, dim2, 1],dtype=('float32'))\n",
    "    y_imposite = np.zeros([total_sample_size, 1],dtype=('float32'))\n",
    "    \n",
    "    for i in range(int(total_sample_size/10)):\n",
    "        for j in range(10):\n",
    "            \n",
    "            #read images from different directory (imposite pair)\n",
    "            while True:\n",
    "                ind1 = np.random.randint(1,40)\n",
    "                ind2 = np.random.randint(1,40)\n",
    "                if ind1 != ind2:\n",
    "                    break\n",
    "                    \n",
    "            img1 = read_image('data/orl_faces/s' + str(ind1+1) + '/' + str(j + 1) + '.pgm', 'rw+')\n",
    "            img2 = read_image('data/orl_faces/s' + str(ind2+1) + '/' + str(j + 1) + '.pgm', 'rw+')\n",
    "\n",
    "            img1 = img1[::size, ::size]\n",
    "            img2 = img2[::size, ::size]\n",
    "\n",
    "            x_imposite_pair[count, 0,  :, :,0] = img1\n",
    "            x_imposite_pair[count, 1,  :, :,0] = img2\n",
    "            #as we are drawing images from the different directory we assign label as 0(作者使用的，後面會解釋使用1/0的差別). (imposite pair)\n",
    "            y_imposite[count] = 1\n",
    "            count += 1\n",
    "            \n",
    "            #now, concatenate, genuine pairs and imposite pair to get the whole data\n",
    "    X = np.concatenate([x_geuine_pair, x_imposite_pair], axis=0)/255\n",
    "    Y = np.concatenate([y_genuine, y_imposite], axis=0)\n",
    "\n",
    "    return X, Y"
   ]
  },
  {
   "cell_type": "code",
   "execution_count": 195,
   "id": "cc2fe096",
   "metadata": {},
   "outputs": [],
   "source": [
    "X, Y = get_data(size, total_sample_size)"
   ]
  },
  {
   "cell_type": "code",
   "execution_count": 196,
   "id": "64446947",
   "metadata": {},
   "outputs": [
    {
     "data": {
      "text/plain": [
       "(20000, 2, 56, 46, 1)"
      ]
     },
     "execution_count": 196,
     "metadata": {},
     "output_type": "execute_result"
    }
   ],
   "source": [
    "X.shape"
   ]
  },
  {
   "cell_type": "markdown",
   "id": "cc855092",
   "metadata": {},
   "source": [
    "要輸入圖片對(sample)的array\n",
    "\n",
    "第一個元素為總sample個數，因為是結合真圖片對與假圖片對，所以為2*10000\n",
    "\n",
    "第二個元素代表真(假)圖片對裡有兩張圖片\n",
    "\n",
    "第三第四元素代表圖片的長寬(已減小)\n",
    "\n",
    "第五個元素為對應labels所設置"
   ]
  },
  {
   "cell_type": "code",
   "execution_count": 197,
   "id": "d5c04e4b",
   "metadata": {},
   "outputs": [
    {
     "data": {
      "text/plain": [
       "(20000, 1)"
      ]
     },
     "execution_count": 197,
     "metadata": {},
     "output_type": "execute_result"
    }
   ],
   "source": [
    "Y.shape"
   ]
  },
  {
   "cell_type": "markdown",
   "id": "47daeb32",
   "metadata": {},
   "source": [
    "將全部的輸入圖片對(sample,20000個)，75%分給訓練(15000個)，25%分給測試(5000個)"
   ]
  },
  {
   "cell_type": "code",
   "execution_count": 198,
   "id": "96a338d2",
   "metadata": {},
   "outputs": [],
   "source": [
    "x_train, x_test, y_train, y_test = train_test_split(X, Y, test_size=.25)"
   ]
  },
  {
   "cell_type": "markdown",
   "id": "eecc0d25",
   "metadata": {},
   "source": [
    "# 建構基本網路\n",
    "\n",
    "兩個active function為ReLU的卷積層與最大池化(MaxPooling)，然後是兩個平面層(flatten)\n",
    "\n",
    "下面開始探討為甚麼最一開始設置圖片對時要更改原作者的程式：\n",
    "\n",
    "1.這裡最一開始原作者使用border_mode='valid'，代表卷積過後尺寸會變小，相當於padding='valid'\n",
    "\n",
    "2.第二個就是造成最大問題的，dim_ordering='th'\n",
    "\n",
    "dim_ordering：可以為‘th’或‘tf’。'th'模式中通道維（如彩色圖像的3通道）位於第1個位置（維度從0開始算），而在'tf'模式中，通道維位於第3個位置。例如128*128的三通道彩色圖片，在'th'模式中input_shape應寫為（3，128，128），而在'tf'模式中應寫為（128，128，3），注意這裡3出現在第0個位置，因為input_shape不包含樣本數的維度，在其內部實現中，實際上是（None，3，128，128）和（None，128，128，3）。默認是image_dim_ordering指定的模式，可在~/.keras/keras.json中查看，若沒有設置過則為'tf'。\n",
    "\n",
    "如果直接訓練的話，會顯示錯誤，一開始以為是使用keras版本的問題，因此將dim_ordering='th'改成data_format =  'channels_first'，\n",
    "\n",
    "但是接下來就開始出現UnimplementedError: Graph execution error，\n",
    "\n",
    "以為是因為padding讓圖片變小的關係，因此又把padding='valid'改成padding='same'，\n",
    "\n",
    "結果就是辨識出來的準確率很差，只有0.74，與作者做出的0.92相差甚遠，\n",
    "\n",
    "因此決定重頭來過，盡量不更改到原本網路架構設計的padding，但是就是無法訓練，會有UnimplementedError: Graph execution error的錯誤，\n",
    "\n",
    "查了很久的資料，發現不能設定data_format =  'channels_first'，雖然建造模型沒問題，但在compile、predict的時候都會有問題，\n",
    "\n",
    "所以還是得讓data_format =  'channels_last'，也就是將通道維放在最前面，因此才去更改最開始圖片對的創建，最後才成功得到高準確率。"
   ]
  },
  {
   "cell_type": "code",
   "execution_count": 13,
   "id": "c0b40e83",
   "metadata": {},
   "outputs": [],
   "source": [
    "def build_base_network(input_shape):\n",
    "    \n",
    "    seq = Sequential()\n",
    "    \n",
    "    nb_filter = [6, 12]\n",
    "    kernel_size = 3\n",
    "    \n",
    "    \n",
    "    #convolutional layer 1\n",
    "    seq.add(Conv2D(nb_filter[0],\n",
    "                 (kernel_size, kernel_size),\n",
    "                 input_shape=(56,46,1),\n",
    "                 padding='valid'))\n",
    "    seq.add(Activation('relu'))\n",
    "    seq.add(MaxPooling2D(pool_size=(2, 2))) \n",
    "    seq.add(Dropout(.25))\n",
    "\n",
    "    #convolutional layer 2\n",
    "    seq.add(Conv2D(nb_filter[1],\n",
    "                 (kernel_size, kernel_size),\n",
    "                 padding='valid'))\n",
    "    seq.add(Activation('relu'))\n",
    "    seq.add(MaxPooling2D(pool_size=(2, 2)))\n",
    "    seq.add(Dropout(.25))\n",
    "\n",
    "    #flatten \n",
    "    seq.add(Flatten())\n",
    "    seq.add(Dense(128, activation='relu'))\n",
    "    seq.add(Dropout(0.1))\n",
    "    seq.add(Dense(50, activation='relu'))\n",
    "    return seq"
   ]
  },
  {
   "cell_type": "code",
   "execution_count": 212,
   "id": "5bd06f9b",
   "metadata": {},
   "outputs": [
    {
     "data": {
      "text/plain": [
       "(15000, 2, 56, 46, 1)"
      ]
     },
     "execution_count": 212,
     "metadata": {},
     "output_type": "execute_result"
    }
   ],
   "source": [
    "x_train.shape"
   ]
  },
  {
   "cell_type": "markdown",
   "id": "7ed59264",
   "metadata": {},
   "source": [
    "input_dim為x_train的第三個元素開始，也就是(56, 46, 1)"
   ]
  },
  {
   "cell_type": "code",
   "execution_count": 199,
   "id": "d00766a6",
   "metadata": {},
   "outputs": [],
   "source": [
    "input_dim = x_train.shape[2:]\n",
    "img_a = Input(shape=input_dim)\n",
    "img_b = Input(shape=input_dim)"
   ]
  },
  {
   "cell_type": "markdown",
   "id": "3ae0e97a",
   "metadata": {},
   "source": [
    "創建base_network，經由基本網路提取到的圖片對的特徵feat_vecs_a、feat_vecs_b"
   ]
  },
  {
   "cell_type": "code",
   "execution_count": 213,
   "id": "dd27cdf0",
   "metadata": {},
   "outputs": [
    {
     "name": "stdout",
     "output_type": "stream",
     "text": [
      "Model: \"sequential_10\"\n",
      "_________________________________________________________________\n",
      " Layer (type)                Output Shape              Param #   \n",
      "=================================================================\n",
      " conv2d_20 (Conv2D)          (None, 54, 44, 6)         60        \n",
      "                                                                 \n",
      " activation_20 (Activation)  (None, 54, 44, 6)         0         \n",
      "                                                                 \n",
      " max_pooling2d_20 (MaxPoolin  (None, 27, 22, 6)        0         \n",
      " g2D)                                                            \n",
      "                                                                 \n",
      " dropout_30 (Dropout)        (None, 27, 22, 6)         0         \n",
      "                                                                 \n",
      " conv2d_21 (Conv2D)          (None, 25, 20, 12)        660       \n",
      "                                                                 \n",
      " activation_21 (Activation)  (None, 25, 20, 12)        0         \n",
      "                                                                 \n",
      " max_pooling2d_21 (MaxPoolin  (None, 12, 10, 12)       0         \n",
      " g2D)                                                            \n",
      "                                                                 \n",
      " dropout_31 (Dropout)        (None, 12, 10, 12)        0         \n",
      "                                                                 \n",
      " flatten_10 (Flatten)        (None, 1440)              0         \n",
      "                                                                 \n",
      " dense_20 (Dense)            (None, 128)               184448    \n",
      "                                                                 \n",
      " dropout_32 (Dropout)        (None, 128)               0         \n",
      "                                                                 \n",
      " dense_21 (Dense)            (None, 50)                6450      \n",
      "                                                                 \n",
      "=================================================================\n",
      "Total params: 191,618\n",
      "Trainable params: 191,618\n",
      "Non-trainable params: 0\n",
      "_________________________________________________________________\n"
     ]
    }
   ],
   "source": [
    "base_network = build_base_network(input_dim)\n",
    "base_network.summary()\n",
    "feat_vecs_a = base_network(img_a)\n",
    "feat_vecs_b = base_network(img_b)"
   ]
  },
  {
   "cell_type": "markdown",
   "id": "654bcf3b",
   "metadata": {},
   "source": [
    "# enegy function 使用L2 distance：\n",
    "\n",
    "計算圖片對的特徵feat_vecs_a、feat_vecs_b之間的距離"
   ]
  },
  {
   "cell_type": "code",
   "execution_count": 16,
   "id": "ffd4d5c8",
   "metadata": {},
   "outputs": [],
   "source": [
    "def euclidean_distance(vects):\n",
    "    x, y = vects\n",
    "    return K.sqrt(K.sum(K.square(x - y), axis=1, keepdims=True))"
   ]
  },
  {
   "cell_type": "code",
   "execution_count": 17,
   "id": "ce747ee3",
   "metadata": {},
   "outputs": [],
   "source": [
    "def eucl_dist_output_shape(shapes):\n",
    "    shape1, shape2 = shapes\n",
    "    return (shape1[0], 1)"
   ]
  },
  {
   "cell_type": "code",
   "execution_count": 201,
   "id": "1d5f67fd",
   "metadata": {},
   "outputs": [],
   "source": [
    "distance = Lambda(euclidean_distance, output_shape=eucl_dist_output_shape)([feat_vecs_a, feat_vecs_b])"
   ]
  },
  {
   "cell_type": "markdown",
   "id": "d867863c",
   "metadata": {},
   "source": [
    "其中模型的輸出為distance(輸入圖片對的特徵向量距離)"
   ]
  },
  {
   "cell_type": "code",
   "execution_count": 202,
   "id": "263900a7",
   "metadata": {},
   "outputs": [],
   "source": [
    "epochs = 13\n",
    "rms = RMSprop()\n",
    "model = Model(inputs=[img_a, img_b], outputs=distance)"
   ]
  },
  {
   "cell_type": "markdown",
   "id": "7bddab1e",
   "metadata": {},
   "source": [
    "# Loss function 使用contrastive_loss\n",
    "\n",
    "公式#1：\n",
    "\n",
    "![jupyter](https://i.stack.imgur.com/zDtA0.png)\n",
    "\n",
    "來自同類別的圖片(相似)設為1，來自不同類別(不相似)的圖片設為0，\n",
    "\n",
    "這裡使用![jupyter](https://pic3.zhimg.com/80/v2-bfa48776c69d7e2cbfcf9bc118e5e86e_720w.webp)公式#2：\n",
    "\n",
    "但是最初在給圖片對做label的時候，要將來自同類別的圖片(相似)設為0，來自不同類別的圖片設為1，\n",
    "\n",
    "原作者使用的是#1公式，這裡使用#2公式。"
   ]
  },
  {
   "cell_type": "code",
   "execution_count": 204,
   "id": "65ba5061",
   "metadata": {},
   "outputs": [],
   "source": [
    "def contrastive_loss(y_true, y_pred):\n",
    "    margin = 1\n",
    "    #return K.mean(y_true * K.square(y_pred) + (1 - y_true) * K.square(K.maximum(margin - y_pred, 0)))#1\n",
    "    return K.mean((1-y_true) * K.square(y_pred) + (y_true) * K.square(K.maximum(margin - y_pred, 0)))#2"
   ]
  },
  {
   "cell_type": "markdown",
   "id": "fa627ea6",
   "metadata": {},
   "source": [
    "優化器使用rms"
   ]
  },
  {
   "cell_type": "code",
   "execution_count": 205,
   "id": "2944d428",
   "metadata": {},
   "outputs": [],
   "source": [
    "model.compile(loss=contrastive_loss, optimizer=rms)"
   ]
  },
  {
   "cell_type": "markdown",
   "id": "fee5af14",
   "metadata": {},
   "source": [
    "進行模型訓練"
   ]
  },
  {
   "cell_type": "code",
   "execution_count": 206,
   "id": "b9fcf2a7",
   "metadata": {
    "scrolled": false
   },
   "outputs": [
    {
     "name": "stdout",
     "output_type": "stream",
     "text": [
      "Epoch 1/13\n",
      "88/88 - 3s - loss: 0.2326 - val_loss: 0.2822 - 3s/epoch - 29ms/step\n",
      "Epoch 2/13\n",
      "88/88 - 2s - loss: 0.1657 - val_loss: 0.2735 - 2s/epoch - 17ms/step\n",
      "Epoch 3/13\n",
      "88/88 - 2s - loss: 0.1327 - val_loss: 0.2004 - 2s/epoch - 17ms/step\n",
      "Epoch 4/13\n",
      "88/88 - 2s - loss: 0.0994 - val_loss: 0.1274 - 2s/epoch - 17ms/step\n",
      "Epoch 5/13\n",
      "88/88 - 2s - loss: 0.0774 - val_loss: 0.0818 - 2s/epoch - 17ms/step\n",
      "Epoch 6/13\n",
      "88/88 - 2s - loss: 0.0636 - val_loss: 0.0735 - 2s/epoch - 18ms/step\n",
      "Epoch 7/13\n",
      "88/88 - 2s - loss: 0.0527 - val_loss: 0.0538 - 2s/epoch - 17ms/step\n",
      "Epoch 8/13\n",
      "88/88 - 2s - loss: 0.0458 - val_loss: 0.0430 - 2s/epoch - 17ms/step\n",
      "Epoch 9/13\n",
      "88/88 - 2s - loss: 0.0407 - val_loss: 0.0312 - 2s/epoch - 17ms/step\n",
      "Epoch 10/13\n",
      "88/88 - 1s - loss: 0.0359 - val_loss: 0.0372 - 1s/epoch - 17ms/step\n",
      "Epoch 11/13\n",
      "88/88 - 1s - loss: 0.0330 - val_loss: 0.0265 - 1s/epoch - 17ms/step\n",
      "Epoch 12/13\n",
      "88/88 - 2s - loss: 0.0300 - val_loss: 0.0279 - 2s/epoch - 18ms/step\n",
      "Epoch 13/13\n",
      "88/88 - 2s - loss: 0.0275 - val_loss: 0.0213 - 2s/epoch - 18ms/step\n"
     ]
    },
    {
     "data": {
      "text/plain": [
       "<keras.callbacks.History at 0x1db2b87be80>"
      ]
     },
     "execution_count": 206,
     "metadata": {},
     "output_type": "execute_result"
    }
   ],
   "source": [
    "img_1 = x_train[:, 0]\n",
    "img_2 = x_train[:, 1]\n",
    "\n",
    "model.fit([img_1, img_2], y_train, validation_split=.25,\n",
    "          batch_size=128, verbose=2, epochs=epochs)"
   ]
  },
  {
   "cell_type": "markdown",
   "id": "4956566a",
   "metadata": {},
   "source": [
    "pred為模型的輸出，為測試圖片對的特徵向量距離"
   ]
  },
  {
   "cell_type": "code",
   "execution_count": 207,
   "id": "dcab5722",
   "metadata": {},
   "outputs": [],
   "source": [
    "pred = model.predict([x_test[:, 0], x_test[:, 1]])"
   ]
  },
  {
   "cell_type": "markdown",
   "id": "3f9c2cc3",
   "metadata": {},
   "source": [
    "plot其中一個測試圖片對的真實label與預測結果"
   ]
  },
  {
   "cell_type": "code",
   "execution_count": 208,
   "id": "2aa37c64",
   "metadata": {},
   "outputs": [
    {
     "data": {
      "image/png": "[encoded data removed]",
      "text/plain": [
       "<Figure size 432x288 with 2 Axes>"
      ]
     },
     "metadata": {
      "needs_background": "light"
     },
     "output_type": "display_data"
    }
   ],
   "source": [
    "show_image(x_test,y_test,pred,0)"
   ]
  },
  {
   "cell_type": "markdown",
   "id": "8c7f30d1",
   "metadata": {},
   "source": [
    "# 關於圖片的標題\n",
    "\n",
    "true：代表實際輸入的圖片對的label，如果true=0代表輸入圖片對來自相同類別；true=1代表輸入圖片對來自不同類別。\n",
    "\n",
    "Prediction：代表預測輸入圖片對的特徵向量間的距離(相似度)，當值越大，代表距離越遠，輸入的圖片對越不同；值越小，代表距離越近，輸入的圖片對越相同\n",
    "\n",
    "所以當true=1，而Prediction越大，代表預測的越準確；或是true=0，而Prediction越小，也是模型預測準確率高的表現。"
   ]
  },
  {
   "cell_type": "code",
   "execution_count": 191,
   "id": "b3278313",
   "metadata": {},
   "outputs": [],
   "source": [
    "def compute_accuracy(predictions, labels):\n",
    "    return labels[predictions.ravel() < 0.4].mean()"
   ]
  },
  {
   "cell_type": "markdown",
   "id": "b18f1b96",
   "metadata": {},
   "source": [
    "contrastive_loss使用#1 的公式 使用到的compute_accuracy\n",
    "\n",
    "因為來自同類別的圖片(相似)設為1，來自不同類別(不相似)的圖片設為0，\n",
    "\n",
    "輸出(pred)為輸入圖片對的特徵向量距離，\n",
    "\n",
    "1)predictions.ravel()\n",
    "\n",
    "![jupyter](1.jpg)\n",
    "\n",
    "2)predictions.ravel() < 0.5 條件判斷，輸出boolean矩陣\n",
    "\n",
    "![jupyter](2.jpg)\n",
    "\n",
    "3)labels[predictions.ravel() < 0.5]：使用boolean矩陣作為索引，當索引為True，返回labels對應索引處的元素，即返回神經網路認為(預測)為同類別的圖片: \n",
    "\n",
    "![jupyter](3.jpg)\n",
    "\n",
    "4)有可能predictions認為是True(特徵距離小，來自同類圖片)，但實際上labels為0(來自不同類圖片)，因為這裡設定來自同類別的圖片為1，因此可以直接加總labels[predictions.ravel() < 0.5]的值並做mean來得到準確值"
   ]
  },
  {
   "cell_type": "code",
   "execution_count": 192,
   "id": "eae9e722",
   "metadata": {},
   "outputs": [
    {
     "name": "stdout",
     "output_type": "stream",
     "text": [
      "0.98273027\n"
     ]
    }
   ],
   "source": [
    "print(compute_accuracy(pred, y_test))"
   ]
  },
  {
   "cell_type": "markdown",
   "id": "86351054",
   "metadata": {},
   "source": [
    "但若contrastive_loss使用 #2 公式\n",
    "\n",
    "則來自同類別的圖片(相似)設為0，來自不同類別的圖片設為1，\n",
    "\n",
    "而predictions認為是True(特徵距離小，來自同類圖片)，如果預測正確的話，labels為0，所以加總labels[predictions.ravel() < 0.5]的值越小代表預測的越準確，\n",
    "\n",
    "因此加總labels[predictions.ravel() < 0.5]，實際上是在計算\"1\"的個數，也就是在計算預測的錯誤率。\n",
    "\n",
    "因此這裡如果要算預測準確率的話，使用1-compute_accuracy(pred, y_test)(錯誤率) 來得到"
   ]
  },
  {
   "cell_type": "code",
   "execution_count": 209,
   "id": "595b402b",
   "metadata": {},
   "outputs": [
    {
     "name": "stdout",
     "output_type": "stream",
     "text": [
      "0.9645579271018505\n"
     ]
    }
   ],
   "source": [
    "print(1-compute_accuracy(pred, y_test))"
   ]
  },
  {
   "cell_type": "code",
   "execution_count": null,
   "id": "6f66f77a",
   "metadata": {},
   "outputs": [],
   "source": []
  }
 ],
 "metadata": {
  "kernelspec": {
   "display_name": "Python 3 (ipykernel)",
   "language": "python",
   "name": "python3"
  },
  "language_info": {
   "codemirror_mode": {
    "name": "ipython",
    "version": 3
   },
   "file_extension": ".py",
   "mimetype": "text/x-python",
   "name": "python",
   "nbconvert_exporter": "python",
   "pygments_lexer": "ipython3",
   "version": "3.9.7"
  }
 },
 "nbformat": 4,
 "nbformat_minor": 5
}
